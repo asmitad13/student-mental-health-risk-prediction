{
 "cells": [
  {
   "cell_type": "code",
   "execution_count": 24,
   "id": "fbe4b4b2",
   "metadata": {},
   "outputs": [
    {
     "name": "stdout",
     "output_type": "stream",
     "text": [
      "✅ Dataset loaded successfully with shape: (395, 33)\n"
     ]
    },
    {
     "data": {
      "text/html": [
       "<div>\n",
       "<style scoped>\n",
       "    .dataframe tbody tr th:only-of-type {\n",
       "        vertical-align: middle;\n",
       "    }\n",
       "\n",
       "    .dataframe tbody tr th {\n",
       "        vertical-align: top;\n",
       "    }\n",
       "\n",
       "    .dataframe thead th {\n",
       "        text-align: right;\n",
       "    }\n",
       "</style>\n",
       "<table border=\"1\" class=\"dataframe\">\n",
       "  <thead>\n",
       "    <tr style=\"text-align: right;\">\n",
       "      <th></th>\n",
       "      <th>school</th>\n",
       "      <th>sex</th>\n",
       "      <th>age</th>\n",
       "      <th>address</th>\n",
       "      <th>famsize</th>\n",
       "      <th>Pstatus</th>\n",
       "      <th>Medu</th>\n",
       "      <th>Fedu</th>\n",
       "      <th>Mjob</th>\n",
       "      <th>Fjob</th>\n",
       "      <th>...</th>\n",
       "      <th>famrel</th>\n",
       "      <th>freetime</th>\n",
       "      <th>goout</th>\n",
       "      <th>Dalc</th>\n",
       "      <th>Walc</th>\n",
       "      <th>health</th>\n",
       "      <th>absences</th>\n",
       "      <th>G1</th>\n",
       "      <th>G2</th>\n",
       "      <th>G3</th>\n",
       "    </tr>\n",
       "  </thead>\n",
       "  <tbody>\n",
       "    <tr>\n",
       "      <th>0</th>\n",
       "      <td>GP</td>\n",
       "      <td>F</td>\n",
       "      <td>18</td>\n",
       "      <td>U</td>\n",
       "      <td>GT3</td>\n",
       "      <td>A</td>\n",
       "      <td>4</td>\n",
       "      <td>4</td>\n",
       "      <td>at_home</td>\n",
       "      <td>teacher</td>\n",
       "      <td>...</td>\n",
       "      <td>4</td>\n",
       "      <td>3</td>\n",
       "      <td>4</td>\n",
       "      <td>1</td>\n",
       "      <td>1</td>\n",
       "      <td>3</td>\n",
       "      <td>6</td>\n",
       "      <td>5</td>\n",
       "      <td>6</td>\n",
       "      <td>6</td>\n",
       "    </tr>\n",
       "    <tr>\n",
       "      <th>1</th>\n",
       "      <td>GP</td>\n",
       "      <td>F</td>\n",
       "      <td>17</td>\n",
       "      <td>U</td>\n",
       "      <td>GT3</td>\n",
       "      <td>T</td>\n",
       "      <td>1</td>\n",
       "      <td>1</td>\n",
       "      <td>at_home</td>\n",
       "      <td>other</td>\n",
       "      <td>...</td>\n",
       "      <td>5</td>\n",
       "      <td>3</td>\n",
       "      <td>3</td>\n",
       "      <td>1</td>\n",
       "      <td>1</td>\n",
       "      <td>3</td>\n",
       "      <td>4</td>\n",
       "      <td>5</td>\n",
       "      <td>5</td>\n",
       "      <td>6</td>\n",
       "    </tr>\n",
       "    <tr>\n",
       "      <th>2</th>\n",
       "      <td>GP</td>\n",
       "      <td>F</td>\n",
       "      <td>15</td>\n",
       "      <td>U</td>\n",
       "      <td>LE3</td>\n",
       "      <td>T</td>\n",
       "      <td>1</td>\n",
       "      <td>1</td>\n",
       "      <td>at_home</td>\n",
       "      <td>other</td>\n",
       "      <td>...</td>\n",
       "      <td>4</td>\n",
       "      <td>3</td>\n",
       "      <td>2</td>\n",
       "      <td>2</td>\n",
       "      <td>3</td>\n",
       "      <td>3</td>\n",
       "      <td>10</td>\n",
       "      <td>7</td>\n",
       "      <td>8</td>\n",
       "      <td>10</td>\n",
       "    </tr>\n",
       "    <tr>\n",
       "      <th>3</th>\n",
       "      <td>GP</td>\n",
       "      <td>F</td>\n",
       "      <td>15</td>\n",
       "      <td>U</td>\n",
       "      <td>GT3</td>\n",
       "      <td>T</td>\n",
       "      <td>4</td>\n",
       "      <td>2</td>\n",
       "      <td>health</td>\n",
       "      <td>services</td>\n",
       "      <td>...</td>\n",
       "      <td>3</td>\n",
       "      <td>2</td>\n",
       "      <td>2</td>\n",
       "      <td>1</td>\n",
       "      <td>1</td>\n",
       "      <td>5</td>\n",
       "      <td>2</td>\n",
       "      <td>15</td>\n",
       "      <td>14</td>\n",
       "      <td>15</td>\n",
       "    </tr>\n",
       "    <tr>\n",
       "      <th>4</th>\n",
       "      <td>GP</td>\n",
       "      <td>F</td>\n",
       "      <td>16</td>\n",
       "      <td>U</td>\n",
       "      <td>GT3</td>\n",
       "      <td>T</td>\n",
       "      <td>3</td>\n",
       "      <td>3</td>\n",
       "      <td>other</td>\n",
       "      <td>other</td>\n",
       "      <td>...</td>\n",
       "      <td>4</td>\n",
       "      <td>3</td>\n",
       "      <td>2</td>\n",
       "      <td>1</td>\n",
       "      <td>2</td>\n",
       "      <td>5</td>\n",
       "      <td>4</td>\n",
       "      <td>6</td>\n",
       "      <td>10</td>\n",
       "      <td>10</td>\n",
       "    </tr>\n",
       "  </tbody>\n",
       "</table>\n",
       "<p>5 rows × 33 columns</p>\n",
       "</div>"
      ],
      "text/plain": [
       "  school sex  age address famsize Pstatus  Medu  Fedu     Mjob      Fjob  ...  \\\n",
       "0     GP   F   18       U     GT3       A     4     4  at_home   teacher  ...   \n",
       "1     GP   F   17       U     GT3       T     1     1  at_home     other  ...   \n",
       "2     GP   F   15       U     LE3       T     1     1  at_home     other  ...   \n",
       "3     GP   F   15       U     GT3       T     4     2   health  services  ...   \n",
       "4     GP   F   16       U     GT3       T     3     3    other     other  ...   \n",
       "\n",
       "  famrel freetime  goout  Dalc  Walc health absences  G1  G2  G3  \n",
       "0      4        3      4     1     1      3        6   5   6   6  \n",
       "1      5        3      3     1     1      3        4   5   5   6  \n",
       "2      4        3      2     2     3      3       10   7   8  10  \n",
       "3      3        2      2     1     1      5        2  15  14  15  \n",
       "4      4        3      2     1     2      5        4   6  10  10  \n",
       "\n",
       "[5 rows x 33 columns]"
      ]
     },
     "execution_count": 24,
     "metadata": {},
     "output_type": "execute_result"
    }
   ],
   "source": [
    "# 1. Import libraries\n",
    "import pandas as pd\n",
    "\n",
    "# 2. Load the dataset (student-mat.csv)\n",
    "df = pd.read_csv(\"data/student-mat.csv\", sep=';')  # Use sep=';' as it's not comma-separated\n",
    "print(\"✅ Dataset loaded successfully with shape:\", df.shape)\n",
    "\n",
    "# 3. Preview the dataset\n",
    "df.head()\n"
   ]
  },
  {
   "cell_type": "code",
   "execution_count": 25,
   "id": "49b71e13",
   "metadata": {},
   "outputs": [
    {
     "name": "stdout",
     "output_type": "stream",
     "text": [
      "<class 'pandas.core.frame.DataFrame'>\n",
      "RangeIndex: 395 entries, 0 to 394\n",
      "Data columns (total 33 columns):\n",
      " #   Column      Non-Null Count  Dtype \n",
      "---  ------      --------------  ----- \n",
      " 0   school      395 non-null    object\n",
      " 1   sex         395 non-null    object\n",
      " 2   age         395 non-null    int64 \n",
      " 3   address     395 non-null    object\n",
      " 4   famsize     395 non-null    object\n",
      " 5   Pstatus     395 non-null    object\n",
      " 6   Medu        395 non-null    int64 \n",
      " 7   Fedu        395 non-null    int64 \n",
      " 8   Mjob        395 non-null    object\n",
      " 9   Fjob        395 non-null    object\n",
      " 10  reason      395 non-null    object\n",
      " 11  guardian    395 non-null    object\n",
      " 12  traveltime  395 non-null    int64 \n",
      " 13  studytime   395 non-null    int64 \n",
      " 14  failures    395 non-null    int64 \n",
      " 15  schoolsup   395 non-null    object\n",
      " 16  famsup      395 non-null    object\n",
      " 17  paid        395 non-null    object\n",
      " 18  activities  395 non-null    object\n",
      " 19  nursery     395 non-null    object\n",
      " 20  higher      395 non-null    object\n",
      " 21  internet    395 non-null    object\n",
      " 22  romantic    395 non-null    object\n",
      " 23  famrel      395 non-null    int64 \n",
      " 24  freetime    395 non-null    int64 \n",
      " 25  goout       395 non-null    int64 \n",
      " 26  Dalc        395 non-null    int64 \n",
      " 27  Walc        395 non-null    int64 \n",
      " 28  health      395 non-null    int64 \n",
      " 29  absences    395 non-null    int64 \n",
      " 30  G1          395 non-null    int64 \n",
      " 31  G2          395 non-null    int64 \n",
      " 32  G3          395 non-null    int64 \n",
      "dtypes: int64(16), object(17)\n",
      "memory usage: 102.0+ KB\n"
     ]
    },
    {
     "data": {
      "text/plain": [
       "school        2\n",
       "sex           2\n",
       "address       2\n",
       "famsize       2\n",
       "Pstatus       2\n",
       "Mjob          5\n",
       "Fjob          5\n",
       "reason        4\n",
       "guardian      3\n",
       "schoolsup     2\n",
       "famsup        2\n",
       "paid          2\n",
       "activities    2\n",
       "nursery       2\n",
       "higher        2\n",
       "internet      2\n",
       "romantic      2\n",
       "dtype: int64"
      ]
     },
     "execution_count": 25,
     "metadata": {},
     "output_type": "execute_result"
    }
   ],
   "source": [
    "# 1. Column data types and null checks\n",
    "df.info()\n",
    "\n",
    "# 2. Summary stats for numeric columns\n",
    "df.describe()\n",
    "\n",
    "# 3. Count unique values in categorical columns\n",
    "df.select_dtypes(include='object').nunique()\n",
    "\n"
   ]
  },
  {
   "cell_type": "code",
   "execution_count": 26,
   "id": "0c65b369",
   "metadata": {},
   "outputs": [
    {
     "data": {
      "text/plain": [
       "Low       291\n",
       "Medium     73\n",
       "High       31\n",
       "Name: mental_health_risk, dtype: int64"
      ]
     },
     "execution_count": 26,
     "metadata": {},
     "output_type": "execute_result"
    }
   ],
   "source": [
    "def classify_mental_health_risk(row):\n",
    "    risk_score = 0\n",
    "\n",
    "    if row['G3'] < 10:\n",
    "        risk_score += 1\n",
    "    if row['failures'] >= 1:\n",
    "        risk_score += 1\n",
    "    if (row['Walc'] + row['Dalc']) >= 6:\n",
    "        risk_score += 1\n",
    "    if row['health'] <= 2:\n",
    "        risk_score += 1\n",
    "    if row['studytime'] < 2 and row['absences'] > 10:\n",
    "        risk_score += 1\n",
    "\n",
    "    # Classify risk level\n",
    "    if risk_score >= 3:\n",
    "        return 'High'\n",
    "    elif risk_score == 2:\n",
    "        return 'Medium'\n",
    "    else:\n",
    "        return 'Low'\n",
    "\n",
    "# Apply to dataset\n",
    "df['mental_health_risk'] = df.apply(classify_mental_health_risk, axis=1)\n",
    "\n",
    "# Preview distribution\n",
    "df['mental_health_risk'].value_counts()\n"
   ]
  },
  {
   "cell_type": "code",
   "execution_count": 27,
   "id": "251724de",
   "metadata": {},
   "outputs": [],
   "source": [
    "# Copy original to preserve raw version\n",
    "df_model = df.copy()\n",
    "\n",
    "# Drop these to avoid leakage\n",
    "df_model = df_model.drop(columns=['G1', 'G2', 'G3'])\n",
    "\n"
   ]
  },
  {
   "cell_type": "code",
   "execution_count": 28,
   "id": "3526d50b",
   "metadata": {},
   "outputs": [],
   "source": [
    "df_model['risk_label'] = df_model['mental_health_risk'].map({'Low': 0, 'Medium': 1, 'High': 2})\n",
    "df_model = df_model.drop(columns=['mental_health_risk'])\n"
   ]
  },
  {
   "cell_type": "code",
   "execution_count": 29,
   "id": "2100a8c6",
   "metadata": {},
   "outputs": [],
   "source": [
    "df_model = pd.get_dummies(df_model, drop_first=True)\n"
   ]
  },
  {
   "cell_type": "code",
   "execution_count": 30,
   "id": "3f68b474",
   "metadata": {},
   "outputs": [],
   "source": [
    "from sklearn.model_selection import train_test_split\n",
    "\n",
    "# Features and target\n",
    "X = df_model.drop('risk_label', axis=1)\n",
    "y = df_model['risk_label']\n",
    "\n",
    "# Split data\n",
    "X_train, X_test, y_train, y_test = train_test_split(\n",
    "    X, y, test_size=0.2, stratify=y, random_state=42\n",
    ")\n"
   ]
  },
  {
   "cell_type": "code",
   "execution_count": 31,
   "id": "46a60e03",
   "metadata": {},
   "outputs": [
    {
     "name": "stdout",
     "output_type": "stream",
     "text": [
      "Logistic Regression Accuracy: 0.7974683544303798\n",
      "\n",
      "Classification Report:\n",
      "               precision    recall  f1-score   support\n",
      "\n",
      "           0       0.84      0.98      0.90        58\n",
      "           1       0.50      0.33      0.40        15\n",
      "           2       1.00      0.17      0.29         6\n",
      "\n",
      "    accuracy                           0.80        79\n",
      "   macro avg       0.78      0.49      0.53        79\n",
      "weighted avg       0.79      0.80      0.76        79\n",
      "\n",
      "\n",
      "Confusion Matrix:\n",
      " [[57  1  0]\n",
      " [10  5  0]\n",
      " [ 1  4  1]]\n"
     ]
    },
    {
     "name": "stderr",
     "output_type": "stream",
     "text": [
      "/Users/asmitadeshpande/anaconda3/lib/python3.10/site-packages/sklearn/linear_model/_logistic.py:458: ConvergenceWarning: lbfgs failed to converge (status=1):\n",
      "STOP: TOTAL NO. of ITERATIONS REACHED LIMIT.\n",
      "\n",
      "Increase the number of iterations (max_iter) or scale the data as shown in:\n",
      "    https://scikit-learn.org/stable/modules/preprocessing.html\n",
      "Please also refer to the documentation for alternative solver options:\n",
      "    https://scikit-learn.org/stable/modules/linear_model.html#logistic-regression\n",
      "  n_iter_i = _check_optimize_result(\n"
     ]
    }
   ],
   "source": [
    "from sklearn.linear_model import LogisticRegression\n",
    "from sklearn.metrics import classification_report, confusion_matrix, accuracy_score\n",
    "\n",
    "# Initialize and train\n",
    "lr = LogisticRegression(max_iter=1000)\n",
    "lr.fit(X_train, y_train)\n",
    "\n",
    "# Predict\n",
    "y_pred_lr = lr.predict(X_test)\n",
    "\n",
    "# Evaluate\n",
    "print(\"Logistic Regression Accuracy:\", accuracy_score(y_test, y_pred_lr))\n",
    "print(\"\\nClassification Report:\\n\", classification_report(y_test, y_pred_lr))\n",
    "print(\"\\nConfusion Matrix:\\n\", confusion_matrix(y_test, y_pred_lr))\n",
    "\n"
   ]
  },
  {
   "cell_type": "code",
   "execution_count": 32,
   "id": "f635b4e3",
   "metadata": {},
   "outputs": [
    {
     "name": "stdout",
     "output_type": "stream",
     "text": [
      "Random Forest Accuracy: 0.7468354430379747\n",
      "\n",
      "Classification Report:\n",
      "               precision    recall  f1-score   support\n",
      "\n",
      "           0       0.82      0.95      0.88        58\n",
      "           1       0.33      0.27      0.30        15\n",
      "           2       0.00      0.00      0.00         6\n",
      "\n",
      "    accuracy                           0.75        79\n",
      "   macro avg       0.38      0.40      0.39        79\n",
      "weighted avg       0.67      0.75      0.70        79\n",
      "\n",
      "\n",
      "Confusion Matrix:\n",
      " [[55  3  0]\n",
      " [11  4  0]\n",
      " [ 1  5  0]]\n"
     ]
    },
    {
     "name": "stderr",
     "output_type": "stream",
     "text": [
      "/Users/asmitadeshpande/anaconda3/lib/python3.10/site-packages/sklearn/metrics/_classification.py:1344: UndefinedMetricWarning: Precision and F-score are ill-defined and being set to 0.0 in labels with no predicted samples. Use `zero_division` parameter to control this behavior.\n",
      "  _warn_prf(average, modifier, msg_start, len(result))\n",
      "/Users/asmitadeshpande/anaconda3/lib/python3.10/site-packages/sklearn/metrics/_classification.py:1344: UndefinedMetricWarning: Precision and F-score are ill-defined and being set to 0.0 in labels with no predicted samples. Use `zero_division` parameter to control this behavior.\n",
      "  _warn_prf(average, modifier, msg_start, len(result))\n",
      "/Users/asmitadeshpande/anaconda3/lib/python3.10/site-packages/sklearn/metrics/_classification.py:1344: UndefinedMetricWarning: Precision and F-score are ill-defined and being set to 0.0 in labels with no predicted samples. Use `zero_division` parameter to control this behavior.\n",
      "  _warn_prf(average, modifier, msg_start, len(result))\n"
     ]
    }
   ],
   "source": [
    "from sklearn.ensemble import RandomForestClassifier\n",
    "\n",
    "# Initialize and train\n",
    "rf = RandomForestClassifier(n_estimators=100, random_state=42)\n",
    "rf.fit(X_train, y_train)\n",
    "\n",
    "# Predict\n",
    "y_pred_rf = rf.predict(X_test)\n",
    "\n",
    "# Evaluate\n",
    "print(\"Random Forest Accuracy:\", accuracy_score(y_test, y_pred_rf))\n",
    "print(\"\\nClassification Report:\\n\", classification_report(y_test, y_pred_rf))\n",
    "print(\"\\nConfusion Matrix:\\n\", confusion_matrix(y_test, y_pred_rf))\n"
   ]
  },
  {
   "cell_type": "code",
   "execution_count": 33,
   "id": "8e6511ae",
   "metadata": {},
   "outputs": [
    {
     "data": {
      "text/plain": [
       "0    233\n",
       "1     58\n",
       "2     25\n",
       "Name: risk_label, dtype: int64"
      ]
     },
     "execution_count": 33,
     "metadata": {},
     "output_type": "execute_result"
    }
   ],
   "source": [
    "y_train.value_counts()\n"
   ]
  },
  {
   "cell_type": "code",
   "execution_count": 34,
   "id": "5a3043e8",
   "metadata": {},
   "outputs": [
    {
     "name": "stdout",
     "output_type": "stream",
     "text": [
      "Requirement already satisfied: imbalanced-learn in /Users/asmitadeshpande/anaconda3/lib/python3.10/site-packages (0.10.1)\n",
      "Requirement already satisfied: threadpoolctl>=2.0.0 in /Users/asmitadeshpande/anaconda3/lib/python3.10/site-packages (from imbalanced-learn) (2.2.0)\n",
      "Requirement already satisfied: scipy>=1.3.2 in /Users/asmitadeshpande/anaconda3/lib/python3.10/site-packages (from imbalanced-learn) (1.9.3)\n",
      "Requirement already satisfied: joblib>=1.1.1 in /Users/asmitadeshpande/anaconda3/lib/python3.10/site-packages (from imbalanced-learn) (1.1.1)\n",
      "Requirement already satisfied: scikit-learn>=1.0.2 in /Users/asmitadeshpande/anaconda3/lib/python3.10/site-packages (from imbalanced-learn) (1.2.1)\n",
      "Requirement already satisfied: numpy>=1.17.3 in /Users/asmitadeshpande/anaconda3/lib/python3.10/site-packages (from imbalanced-learn) (1.23.5)\n",
      "Note: you may need to restart the kernel to use updated packages.\n"
     ]
    }
   ],
   "source": [
    "pip install imbalanced-learn\n"
   ]
  },
  {
   "cell_type": "code",
   "execution_count": 35,
   "id": "af40749b",
   "metadata": {},
   "outputs": [
    {
     "name": "stdout",
     "output_type": "stream",
     "text": [
      "Requirement already satisfied: imbalanced-learn in /Users/asmitadeshpande/anaconda3/lib/python3.10/site-packages (0.10.1)\n",
      "Requirement already satisfied: scikit-learn>=1.0.2 in /Users/asmitadeshpande/anaconda3/lib/python3.10/site-packages (from imbalanced-learn) (1.2.1)\n",
      "Requirement already satisfied: joblib>=1.1.1 in /Users/asmitadeshpande/anaconda3/lib/python3.10/site-packages (from imbalanced-learn) (1.1.1)\n",
      "Requirement already satisfied: numpy>=1.17.3 in /Users/asmitadeshpande/anaconda3/lib/python3.10/site-packages (from imbalanced-learn) (1.23.5)\n",
      "Requirement already satisfied: scipy>=1.3.2 in /Users/asmitadeshpande/anaconda3/lib/python3.10/site-packages (from imbalanced-learn) (1.9.3)\n",
      "Requirement already satisfied: threadpoolctl>=2.0.0 in /Users/asmitadeshpande/anaconda3/lib/python3.10/site-packages (from imbalanced-learn) (2.2.0)\n"
     ]
    }
   ],
   "source": [
    "!pip install imbalanced-learn\n",
    "\n"
   ]
  },
  {
   "cell_type": "code",
   "execution_count": 23,
   "id": "147d50a6",
   "metadata": {},
   "outputs": [
    {
     "name": "stdout",
     "output_type": "stream",
     "text": [
      "Random Forest (class_weight='balanced') Accuracy: 0.7468354430379747\n",
      "\n",
      "Classification Report:\n",
      "               precision    recall  f1-score   support\n",
      "\n",
      "           0       0.79      0.98      0.88        58\n",
      "           1       0.29      0.13      0.18        15\n",
      "           2       0.00      0.00      0.00         6\n",
      "\n",
      "    accuracy                           0.75        79\n",
      "   macro avg       0.36      0.37      0.35        79\n",
      "weighted avg       0.64      0.75      0.68        79\n",
      "\n",
      "\n",
      "Confusion Matrix:\n",
      " [[57  1  0]\n",
      " [13  2  0]\n",
      " [ 2  4  0]]\n",
      "\n",
      "\n",
      "Random Forest (SMOTE) Accuracy: 0.7848101265822784\n",
      "\n",
      "Classification Report:\n",
      "               precision    recall  f1-score   support\n",
      "\n",
      "           0       0.84      0.97      0.90        58\n",
      "           1       0.40      0.27      0.32        15\n",
      "           2       1.00      0.33      0.50         6\n",
      "\n",
      "    accuracy                           0.78        79\n",
      "   macro avg       0.75      0.52      0.57        79\n",
      "weighted avg       0.77      0.78      0.76        79\n",
      "\n",
      "\n",
      "Confusion Matrix:\n",
      " [[56  2  0]\n",
      " [11  4  0]\n",
      " [ 0  4  2]]\n"
     ]
    },
    {
     "name": "stderr",
     "output_type": "stream",
     "text": [
      "/Users/asmitadeshpande/anaconda3/lib/python3.10/site-packages/sklearn/metrics/_classification.py:1344: UndefinedMetricWarning: Precision and F-score are ill-defined and being set to 0.0 in labels with no predicted samples. Use `zero_division` parameter to control this behavior.\n",
      "  _warn_prf(average, modifier, msg_start, len(result))\n",
      "/Users/asmitadeshpande/anaconda3/lib/python3.10/site-packages/sklearn/metrics/_classification.py:1344: UndefinedMetricWarning: Precision and F-score are ill-defined and being set to 0.0 in labels with no predicted samples. Use `zero_division` parameter to control this behavior.\n",
      "  _warn_prf(average, modifier, msg_start, len(result))\n",
      "/Users/asmitadeshpande/anaconda3/lib/python3.10/site-packages/sklearn/metrics/_classification.py:1344: UndefinedMetricWarning: Precision and F-score are ill-defined and being set to 0.0 in labels with no predicted samples. Use `zero_division` parameter to control this behavior.\n",
      "  _warn_prf(average, modifier, msg_start, len(result))\n"
     ]
    }
   ],
   "source": [
    "from sklearn.ensemble import RandomForestClassifier\n",
    "from sklearn.metrics import classification_report, accuracy_score, confusion_matrix\n",
    "from imblearn.over_sampling import SMOTE\n",
    "\n",
    "# Random Forest with class_weight='balanced'\n",
    "rf_bal = RandomForestClassifier(n_estimators=100, class_weight='balanced', random_state=42)\n",
    "rf_bal.fit(X_train, y_train)\n",
    "y_pred_bal = rf_bal.predict(X_test)\n",
    "\n",
    "print(\"Random Forest (class_weight='balanced') Accuracy:\", accuracy_score(y_test, y_pred_bal))\n",
    "print(\"\\nClassification Report:\\n\", classification_report(y_test, y_pred_bal))\n",
    "print(\"\\nConfusion Matrix:\\n\", confusion_matrix(y_test, y_pred_bal))\n",
    "\n",
    "\n",
    "# Random Forest after SMOTE\n",
    "sm = SMOTE(random_state=42)\n",
    "X_train_sm, y_train_sm = sm.fit_resample(X_train, y_train)\n",
    "\n",
    "rf_smote = RandomForestClassifier(n_estimators=100, random_state=42)\n",
    "rf_smote.fit(X_train_sm, y_train_sm)\n",
    "y_pred_sm = rf_smote.predict(X_test)\n",
    "\n",
    "print(\"\\n\\nRandom Forest (SMOTE) Accuracy:\", accuracy_score(y_test, y_pred_sm))\n",
    "print(\"\\nClassification Report:\\n\", classification_report(y_test, y_pred_sm))\n",
    "print(\"\\nConfusion Matrix:\\n\", confusion_matrix(y_test, y_pred_sm))\n"
   ]
  },
  {
   "cell_type": "code",
   "execution_count": 36,
   "id": "aa5ee88a",
   "metadata": {},
   "outputs": [
    {
     "data": {
      "image/png": "[encoded data removed]",
      "text/plain": [
       "<Figure size 1000x600 with 1 Axes>"
      ]
     },
     "metadata": {},
     "output_type": "display_data"
    }
   ],
   "source": [
    "import matplotlib.pyplot as plt\n",
    "import seaborn as sns\n",
    "\n",
    "# Get feature importance from final SMOTE model\n",
    "importances = rf_smote.feature_importances_\n",
    "features = X_train.columns\n",
    "\n",
    "# Plot top 10\n",
    "feat_imp = pd.Series(importances, index=features).sort_values(ascending=False).head(10)\n",
    "\n",
    "plt.figure(figsize=(10, 6))\n",
    "sns.barplot(x=feat_imp.values, y=feat_imp.index)\n",
    "plt.title(\"Top 10 Feature Importances (Random Forest + SMOTE)\")\n",
    "plt.xlabel(\"Importance\")\n",
    "plt.ylabel(\"Feature\")\n",
    "plt.tight_layout()\n",
    "plt.show()\n"
   ]
  },
  {
   "cell_type": "code",
   "execution_count": null,
   "id": "a01b3274",
   "metadata": {},
   "outputs": [],
   "source": [
    "import shap\n",
    "\n",
    "# Sample 100 rows for SHAP (avoid long compute)\n",
    "explainer = shap.TreeExplainer(rf_smote)\n",
    "shap_values = explainer.shap_values(X_test)\n",
    "\n",
    "# SHAP Summary Plot\n",
    "shap.summary_plot(shap_values[1], X_test, plot_type=\"bar\")\n",
    "\n"
   ]
  },
  {
   "cell_type": "code",
   "execution_count": 38,
   "id": "87582b60",
   "metadata": {},
   "outputs": [
    {
     "name": "stdout",
     "output_type": "stream",
     "text": [
      "Collecting shap\n",
      "  Downloading shap-0.47.2-cp310-cp310-macosx_10_9_x86_64.whl (553 kB)\n",
      "\u001b[2K     \u001b[90m━━━━━━━━━━━━━━━━━━━━━━━━━━━━━━━━━━━━━━━\u001b[0m \u001b[32m553.6/553.6 kB\u001b[0m \u001b[31m6.5 MB/s\u001b[0m eta \u001b[36m0:00:00\u001b[0ma \u001b[36m0:00:01\u001b[0m\n",
      "\u001b[?25hRequirement already satisfied: cloudpickle in /Users/asmitadeshpande/anaconda3/lib/python3.10/site-packages (from shap) (2.0.0)\n",
      "Requirement already satisfied: numpy in /Users/asmitadeshpande/anaconda3/lib/python3.10/site-packages (from shap) (1.23.5)\n",
      "Requirement already satisfied: pandas in /Users/asmitadeshpande/anaconda3/lib/python3.10/site-packages (from shap) (1.5.3)\n",
      "Requirement already satisfied: tqdm>=4.27.0 in /Users/asmitadeshpande/anaconda3/lib/python3.10/site-packages (from shap) (4.64.1)\n",
      "Requirement already satisfied: typing-extensions in /Users/asmitadeshpande/anaconda3/lib/python3.10/site-packages (from shap) (4.4.0)\n",
      "Collecting slicer==0.0.8\n",
      "  Downloading slicer-0.0.8-py3-none-any.whl (15 kB)\n",
      "Requirement already satisfied: numba>=0.54 in /Users/asmitadeshpande/anaconda3/lib/python3.10/site-packages (from shap) (0.56.4)\n",
      "Requirement already satisfied: packaging>20.9 in /Users/asmitadeshpande/anaconda3/lib/python3.10/site-packages (from shap) (22.0)\n",
      "Requirement already satisfied: scipy in /Users/asmitadeshpande/anaconda3/lib/python3.10/site-packages (from shap) (1.9.3)\n",
      "Requirement already satisfied: scikit-learn in /Users/asmitadeshpande/anaconda3/lib/python3.10/site-packages (from shap) (1.2.1)\n",
      "Requirement already satisfied: setuptools in /Users/asmitadeshpande/anaconda3/lib/python3.10/site-packages (from numba>=0.54->shap) (65.6.3)\n",
      "Requirement already satisfied: llvmlite<0.40,>=0.39.0dev0 in /Users/asmitadeshpande/anaconda3/lib/python3.10/site-packages (from numba>=0.54->shap) (0.39.1)\n",
      "Requirement already satisfied: python-dateutil>=2.8.1 in /Users/asmitadeshpande/anaconda3/lib/python3.10/site-packages (from pandas->shap) (2.8.2)\n",
      "Requirement already satisfied: pytz>=2020.1 in /Users/asmitadeshpande/anaconda3/lib/python3.10/site-packages (from pandas->shap) (2022.7)\n",
      "Requirement already satisfied: joblib>=1.1.1 in /Users/asmitadeshpande/anaconda3/lib/python3.10/site-packages (from scikit-learn->shap) (1.1.1)\n",
      "Requirement already satisfied: threadpoolctl>=2.0.0 in /Users/asmitadeshpande/anaconda3/lib/python3.10/site-packages (from scikit-learn->shap) (2.2.0)\n",
      "Requirement already satisfied: six>=1.5 in /Users/asmitadeshpande/anaconda3/lib/python3.10/site-packages (from python-dateutil>=2.8.1->pandas->shap) (1.16.0)\n",
      "Installing collected packages: slicer, shap\n",
      "Successfully installed shap-0.47.2 slicer-0.0.8\n"
     ]
    }
   ],
   "source": [
    "!pip install shap\n",
    "\n"
   ]
  },
  {
   "cell_type": "code",
   "execution_count": 40,
   "id": "1d9fbef6",
   "metadata": {},
   "outputs": [
    {
     "ename": "AssertionError",
     "evalue": "The shape of the shap_values matrix does not match the shape of the provided data matrix.",
     "output_type": "error",
     "traceback": [
      "\u001b[0;31m---------------------------------------------------------------------------\u001b[0m",
      "\u001b[0;31mAssertionError\u001b[0m                            Traceback (most recent call last)",
      "Cell \u001b[0;32mIn[40], line 6\u001b[0m\n\u001b[1;32m      3\u001b[0m explainer \u001b[38;5;241m=\u001b[39m shap\u001b[38;5;241m.\u001b[39mTreeExplainer(rf_smote)\n\u001b[1;32m      4\u001b[0m shap_values \u001b[38;5;241m=\u001b[39m explainer\u001b[38;5;241m.\u001b[39mshap_values(X_test)\n\u001b[0;32m----> 6\u001b[0m \u001b[43mshap\u001b[49m\u001b[38;5;241;43m.\u001b[39;49m\u001b[43msummary_plot\u001b[49m\u001b[43m(\u001b[49m\u001b[43mshap_values\u001b[49m\u001b[43m[\u001b[49m\u001b[38;5;241;43m1\u001b[39;49m\u001b[43m]\u001b[49m\u001b[43m,\u001b[49m\u001b[43m \u001b[49m\u001b[43mX_test\u001b[49m\u001b[43m,\u001b[49m\u001b[43m \u001b[49m\u001b[43mplot_type\u001b[49m\u001b[38;5;241;43m=\u001b[39;49m\u001b[38;5;124;43m\"\u001b[39;49m\u001b[38;5;124;43mbar\u001b[39;49m\u001b[38;5;124;43m\"\u001b[39;49m\u001b[43m)\u001b[49m\n",
      "File \u001b[0;32m~/anaconda3/lib/python3.10/site-packages/shap/plots/_beeswarm.py:667\u001b[0m, in \u001b[0;36msummary_legacy\u001b[0;34m(shap_values, features, feature_names, max_display, plot_type, color, axis_color, title, alpha, show, sort, color_bar, plot_size, layered_violin_max_num_bins, class_names, class_inds, color_bar_label, cmap, show_values_in_legend, use_log_scale, rng)\u001b[0m\n\u001b[1;32m    662\u001b[0m         \u001b[38;5;28;01mraise\u001b[39;00m \u001b[38;5;167;01mValueError\u001b[39;00m(\n\u001b[1;32m    663\u001b[0m             shape_msg \u001b[38;5;241m+\u001b[39m \u001b[38;5;124m\"\u001b[39m\u001b[38;5;124m Perhaps the extra column in the shap_values matrix is the \u001b[39m\u001b[38;5;124m\"\u001b[39m\n\u001b[1;32m    664\u001b[0m             \u001b[38;5;124m\"\u001b[39m\u001b[38;5;124mconstant offset? Of so just pass shap_values[:,:-1].\u001b[39m\u001b[38;5;124m\"\u001b[39m\n\u001b[1;32m    665\u001b[0m         )\n\u001b[1;32m    666\u001b[0m     \u001b[38;5;28;01melse\u001b[39;00m:\n\u001b[0;32m--> 667\u001b[0m         \u001b[38;5;28;01massert\u001b[39;00m num_features \u001b[38;5;241m==\u001b[39m features\u001b[38;5;241m.\u001b[39mshape[\u001b[38;5;241m1\u001b[39m], shape_msg\n\u001b[1;32m    669\u001b[0m \u001b[38;5;28;01mif\u001b[39;00m feature_names \u001b[38;5;129;01mis\u001b[39;00m \u001b[38;5;28;01mNone\u001b[39;00m:\n\u001b[1;32m    670\u001b[0m     feature_names \u001b[38;5;241m=\u001b[39m np\u001b[38;5;241m.\u001b[39marray([labels[\u001b[38;5;124m\"\u001b[39m\u001b[38;5;124mFEATURE\u001b[39m\u001b[38;5;124m\"\u001b[39m] \u001b[38;5;241m%\u001b[39m \u001b[38;5;28mstr\u001b[39m(i) \u001b[38;5;28;01mfor\u001b[39;00m i \u001b[38;5;129;01min\u001b[39;00m \u001b[38;5;28mrange\u001b[39m(num_features)])\n",
      "\u001b[0;31mAssertionError\u001b[0m: The shape of the shap_values matrix does not match the shape of the provided data matrix."
     ]
    },
    {
     "data": {
      "text/plain": [
       "<Figure size 640x480 with 0 Axes>"
      ]
     },
     "metadata": {},
     "output_type": "display_data"
    }
   ],
   "source": [
    "import shap\n",
    "\n",
    "explainer = shap.TreeExplainer(rf_smote)\n",
    "shap_values = explainer.shap_values(X_test)\n",
    "\n",
    "shap.summary_plot(shap_values[1], X_test, plot_type=\"bar\")\n"
   ]
  },
  {
   "cell_type": "code",
   "execution_count": 41,
   "id": "18710be6",
   "metadata": {},
   "outputs": [
    {
     "data": {
      "image/png": "[encoded data removed]",
      "text/plain": [
       "<Figure size 800x950 with 1 Axes>"
      ]
     },
     "metadata": {},
     "output_type": "display_data"
    }
   ],
   "source": [
    "import shap\n",
    "\n",
    "# Create explainer and SHAP values\n",
    "explainer = shap.TreeExplainer(rf_smote)\n",
    "shap_values = explainer.shap_values(X_test)\n",
    "\n",
    "# Plot summary for all classes (bar = global importance)\n",
    "shap.summary_plot(shap_values, X_test, plot_type=\"bar\")\n"
   ]
  },
  {
   "cell_type": "code",
   "execution_count": 43,
   "id": "97626812",
   "metadata": {},
   "outputs": [],
   "source": [
    "df_export = df.copy()\n",
    "df_export.to_csv(\"student_mental_health_final.csv\", index=False)\n",
    "\n"
   ]
  },
  {
   "cell_type": "code",
   "execution_count": null,
   "id": "53e8445d",
   "metadata": {},
   "outputs": [],
   "source": []
  }
 ],
 "metadata": {
  "kernelspec": {
   "display_name": "Python 3 (ipykernel)",
   "language": "python",
   "name": "python3"
  },
  "language_info": {
   "codemirror_mode": {
    "name": "ipython",
    "version": 3
   },
   "file_extension": ".py",
   "mimetype": "text/x-python",
   "name": "python",
   "nbconvert_exporter": "python",
   "pygments_lexer": "ipython3",
   "version": "3.10.9"
  }
 },
 "nbformat": 4,
 "nbformat_minor": 5
}
